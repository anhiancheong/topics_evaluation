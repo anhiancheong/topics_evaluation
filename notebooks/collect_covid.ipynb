{
 "cells": [
  {
   "cell_type": "code",
   "execution_count": null,
   "metadata": {},
   "outputs": [],
   "source": [
    "\"\"\"\n",
    "Script for collecting and preprocessing the raw COVID literature dataset into a format compatible for Mallet\n",
    "NOTE: only uses the PDF files from the dump on 6/12/2020\n",
    "\"\"\"\n",
    "import os\n",
    "path = \"/Users/hiancheong/Personal/grad/UMD/comp_ling/topics_evaluation/covid_data_2/document_parses/pdf_json\"\n",
    "\n",
    "all_filenames = []\n",
    "for (dirname, directories, files) in os.walk(path):\n",
    "    for fname in files:\n",
    "        all_filenames.append(f\"{dirname}/{fname}\")\n",
    "        "
   ]
  },
  {
   "cell_type": "code",
   "execution_count": 3,
   "metadata": {},
   "outputs": [],
   "source": [
    "import spacy\n",
    "nlp = spacy.load(\"en_core_sci_md\")"
   ]
  },
  {
   "cell_type": "code",
   "execution_count": 6,
   "metadata": {},
   "outputs": [],
   "source": [
    "import json\n",
    "import scispacy\n",
    "import spacy\n",
    "\n",
    "nlp = spacy.load(\"en_core_sci_md\")\n",
    "\n",
    "open(\"/Users/hiancheong/Personal/grad/UMD/comp_ling/topics_evaluation/covid_lines.txt\", \"w+\")\n",
    "file_writer = open(\"/Users/hiancheong/Personal/grad/UMD/comp_ling/topics_evaluation/covid_lines.txt\", \"a+\")\n",
    "\n",
    "def valid_token(token):\n",
    "    if token.is_stop:\n",
    "        return False\n",
    "    if token.is_punct:\n",
    "        return False\n",
    "    if not token.is_alpha:\n",
    "        return False\n",
    "    if \"@\" in token.text:\n",
    "        return False\n",
    "\n",
    "    if token.text:\n",
    "        return True\n",
    "    return False\n",
    "\n",
    "for fname in all_filenames:\n",
    "    json_doc = json.load(open(fname))\n",
    "    raw_text = \" \".join([section.get(\"text\") for section in json_doc.get(\"body_text\", [])])\n",
    "    if \"the\" not in raw_text:\n",
    "        continue\n",
    "        \n",
    "    raw_text = raw_text.lower().replace(\"\\n\", \" \")\n",
    "    # limit us to the top 1000000 character\n",
    "    doc = nlp(raw_text[:999999])\n",
    "    tokens = [token for token in doc]\n",
    "    final_text = \" \".join([d.text.lower() for d in tokens if valid_token(d)])\n",
    "    file_writer.write(f\"{final_text} \\n\")\n"
   ]
  },
  {
   "cell_type": "code",
   "execution_count": null,
   "metadata": {},
   "outputs": [],
   "source": [
    "json_doc = json.load(open(all_filenames[0]))\n",
    "print([k for k in json_doc.keys()])\n",
    "print(type(json_doc[\"body_text\"]))\n",
    "print(json_doc[\"body_text\"][0][\"text\"])"
   ]
  },
  {
   "cell_type": "code",
   "execution_count": 8,
   "metadata": {},
   "outputs": [
    {
     "name": "stdout",
     "output_type": "stream",
     "text": [
      "defaultdict(<class 'int'>, {'en': 67096, 'de': 742, 'fr': 239, 'nl': 278, 'cy': 8, 'es': 179, 'ca': 12, 'it': 22, 'sq': 1, 'pt': 6, 'ro': 4, 'sv': 1, 'sl': 1, 'af': 1})\n"
     ]
    }
   ],
   "source": [
    "from langdetect import detect\n",
    "from collections import defaultdict\n",
    "\n",
    "open(\"/Users/hiancheong/Personal/grad/UMD/comp_ling/topics_evaluation/covid_lines_clean_lang.txt\", \"w+\")\n",
    "file_writer = open(\"/Users/hiancheong/Personal/grad/UMD/comp_ling/topics_evaluation/covid_lines_clean_lang.txt\", \"a+\")\n",
    "\n",
    "lang_counts = defaultdict(int)\n",
    "with open(\"/Users/hiancheong/Personal/grad/UMD/comp_ling/topics_evaluation/covid_lines.txt\", \"r\") as f:\n",
    "    lines = f.readlines()\n",
    "    for line in lines:\n",
    "        lang = detect(line)\n",
    "        if lang == \"en\":\n",
    "            file_writer.write(line)\n",
    "        lang_counts[lang] += 1\n",
    "        \n",
    "print(lang_counts)"
   ]
  },
  {
   "cell_type": "code",
   "execution_count": null,
   "metadata": {},
   "outputs": [],
   "source": []
  }
 ],
 "metadata": {
  "kernelspec": {
   "display_name": "Python 3",
   "language": "python",
   "name": "python3"
  },
  "language_info": {
   "codemirror_mode": {
    "name": "ipython",
    "version": 3
   },
   "file_extension": ".py",
   "mimetype": "text/x-python",
   "name": "python",
   "nbconvert_exporter": "python",
   "pygments_lexer": "ipython3",
   "version": "3.6.6"
  }
 },
 "nbformat": 4,
 "nbformat_minor": 2
}
