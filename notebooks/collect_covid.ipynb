{
 "cells": [
  {
   "cell_type": "code",
   "execution_count": null,
   "metadata": {},
   "outputs": [],
   "source": [
    "\"\"\"\n",
    "Script for collecting and preprocessing the raw COVID literature dataset into a format compatible for Mallet\n",
    "NOTE: only uses the PDF files from the dump on 6/12/2020\n",
    "\"\"\"\n",
    "import os\n",
    "path = \"/Users/hiancheong/Personal/grad/UMD/comp_ling/topics_evaluation/covid_data_2/document_parses/pdf_json\"\n",
    "\n",
    "all_filenames = []\n",
    "for (dirname, directories, files) in os.walk(path):\n",
    "    for fname in files:\n",
    "        all_filenames.append(f\"{dirname}/{fname}\")\n",
    "        "
   ]
  },
  {
   "cell_type": "code",
   "execution_count": 3,
   "metadata": {},
   "outputs": [],
   "source": [
    "import spacy\n",
    "nlp = spacy.load(\"en_core_sci_md\")"
   ]
  },
  {
   "cell_type": "code",
   "execution_count": 5,
   "metadata": {},
   "outputs": [],
   "source": [
    "import json\n",
    "import scispacy\n",
    "import spacy\n",
    "\n",
    "nlp = spacy.load(\"en_core_sci_md\")\n",
    "\n",
    "open(\"/Users/hiancheong/Personal/grad/UMD/comp_ling/topics_evaluation/covid_lines\", \"w+\")\n",
    "file_writer = open(\"/Users/hiancheong/Personal/grad/UMD/comp_ling/topics_evaluation/covid_lines.txt\", \"a+\")\n",
    "\n",
    "for fname in all_filenames:\n",
    "    json_doc = json.load(open(fname))\n",
    "    raw_text = \" \".join([section.get(\"text\") for section in json_doc.get(\"body_text\", [])])\n",
    "    raw_text = raw_text.lower().replace(\"\\n\", \" \")\n",
    "    # limit us to the top 1000000 character\n",
    "    doc = nlp(raw_text[:999999])\n",
    "    tokens = [token for token in doc]\n",
    "    final_text = \" \".join([d.text.lower() for d in tokens if (not (d.is_stop or d.is_punct or \"@\" in d.text) and d.text)])\n",
    "    file_writer.write(f\"{final_text} \\n\")\n"
   ]
  },
  {
   "cell_type": "code",
   "execution_count": null,
   "metadata": {},
   "outputs": [],
   "source": [
    "json_doc = json.load(open(all_filenames[0]))\n",
    "print([k for k in json_doc.keys()])\n",
    "print(type(json_doc[\"body_text\"]))\n",
    "print(json_doc[\"body_text\"][0][\"text\"])"
   ]
  },
  {
   "cell_type": "code",
   "execution_count": null,
   "metadata": {},
   "outputs": [],
   "source": []
  }
 ],
 "metadata": {
  "kernelspec": {
   "display_name": "Python 3",
   "language": "python",
   "name": "python3"
  },
  "language_info": {
   "codemirror_mode": {
    "name": "ipython",
    "version": 3
   },
   "file_extension": ".py",
   "mimetype": "text/x-python",
   "name": "python",
   "nbconvert_exporter": "python",
   "pygments_lexer": "ipython3",
   "version": "3.6.6"
  }
 },
 "nbformat": 4,
 "nbformat_minor": 2
}
