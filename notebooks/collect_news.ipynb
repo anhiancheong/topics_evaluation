{
 "cells": [
  {
   "cell_type": "code",
   "execution_count": 74,
   "metadata": {},
   "outputs": [],
   "source": [
    "\"\"\"\n",
    "Notebook to collect the 20 news groups files and convert them to a format ideal for gensim/mallet\n",
    "\"\"\"\n",
    "import os\n",
    "\n",
    "path = \"/Users/hiancheong/Personal/grad/UMD/comp_ling/topics_evaluation/20news-bydate\"\n",
    "sub_dirs = [\"20news-bydate-test\", \"20news-bydate-train\"]\n",
    "\n",
    "all_filenames = []\n",
    "for (dirpath, dirnames, filenames) in os.walk(path):\n",
    "    for fname in filenames:\n",
    "        all_filenames.append(f\"{dirpath}/{fname}\")"
   ]
  },
  {
   "cell_type": "code",
   "execution_count": 78,
   "metadata": {},
   "outputs": [],
   "source": [
    "import spacy\n",
    "import spacy.lang\n",
    "from spacy.lang.en import English\n",
    "nlp = spacy.lang.en.English()\n",
    "tokenizer = nlp.Defaults.create_tokenizer(nlp)\n",
    "\n",
    "open(\"/Users/hiancheong/Personal/grad/UMD/comp_ling/topics_evaluation/20_news_groups_lines.txt\", \"w+\")\n",
    "file_writer = open(\"/Users/hiancheong/Personal/grad/UMD/comp_ling/topics_evaluation/20_news_groups_lines.txt\", \"a+\")\n",
    "\n",
    "for fname in all_filenames:\n",
    "    #print(fname)\n",
    "    contents = str(open(fname, encoding = \"ISO-8859-1\").read()).replace(\"\\n\", \" \")\n",
    "    doc = tokenizer(contents)\n",
    "    tokens = [token for token in doc]\n",
    "    final_text = \" \".join([d.text.lower() for d in tokens if (not (d.is_stop or d.is_punct or \"@\" in d.text) and d.text)])\n",
    "    file_writer.write(f\"{final_text} \\n\")\n"
   ]
  },
  {
   "cell_type": "code",
   "execution_count": 8,
   "metadata": {},
   "outputs": [
    {
     "data": {
      "text/plain": [
       "\"From: ez000281@hamlet.ucdavis.edu ()\\nSubject: Re: The Stage is Being Set\\nOrganization: Computing Services, UC Davis\\nLines: 26\\n\\nSrinivas Suder writes:\\n\\n>If the Haitian people's will is that their current Govt. get thrown out, \\n>they'll find a way to do it. Getting the US/UN to short-cut the process will \\n>only hasten it, but sets a bad precedent - can the US interfere EVERYWHERE? \\n>Why not right at our doorstep - Cuba?\\n\\nPrecisely, why not Cuba??  Why not???  The Hatians are being ruled by thugs \\nand their elected leader has asked support to reestablish the peoples will.  If \\nthe U.S. or any other democracy wishes to, they are in the perfect right to \\nhelp them without any whining from thir parties.  After all if it turns out to \\nbe colonialism and the poeple don't like it, they' find a way to throw them out.\\n\\n>There is an implicit assumption here that we as outsiders have a right to sit\\n>in judgement of another people, and to then act on it. To me, it is in there\\n>that the roots of old colonial attitudes lie. Today, the motives are noble.\\n>Tomorrow, they may not be.\\n\\nWho ever said people who commit genocide have the right to commit genocide??  \\nI want a world where criminals agains humanity have no place to hide, while you \\nwant special sovereignties designed to protect them.  Nobody has the right to \\ncommit crimes against humanity, and if they do they loose all right to self \\ndetermination.  If this is classical colonialism, then so be it.\\n\\nEdelmiro Salas\\n\\n\""
      ]
     },
     "execution_count": 8,
     "metadata": {},
     "output_type": "execute_result"
    }
   ],
   "source": [
    "f.read()"
   ]
  },
  {
   "cell_type": "code",
   "execution_count": 15,
   "metadata": {},
   "outputs": [],
   "source": []
  },
  {
   "cell_type": "code",
   "execution_count": 61,
   "metadata": {},
   "outputs": [
    {
     "name": "stdout",
     "output_type": "stream",
     "text": [
      "From: ez000281@hamlet.ucdavis.edu () Subject: Re: The Stage is Being Set Organization: Computing Services, UC Davis Lines: 26  Srinivas Suder writes:  >If the Haitian people's will is that their current Govt. get thrown out,  >they'll find a way to do it. Getting the US/UN to short-cut the process will  >only hasten it, but sets a bad precedent - can the US interfere EVERYWHERE?  >Why not right at our doorstep - Cuba?  Precisely, why not Cuba??  Why not???  The Hatians are being ruled by thugs  and their elected leader has asked support to reestablish the peoples will.  If  the U.S. or any other democracy wishes to, they are in the perfect right to  help them without any whining from thir parties.  After all if it turns out to  be colonialism and the poeple don't like it, they' find a way to throw them out.  >There is an implicit assumption here that we as outsiders have a right to sit >in judgement of another people, and to then act on it. To me, it is in there >that the roots of old colonial attitudes lie. Today, the motives are noble. >Tomorrow, they may not be.  Who ever said people who commit genocide have the right to commit genocide??   I want a world where criminals agains humanity have no place to hide, while you  want special sovereignties designed to protect them.  Nobody has the right to  commit crimes against humanity, and if they do they loose all right to self  determination.  If this is classical colonialism, then so be it.  Edelmiro Salas  \n"
     ]
    }
   ],
   "source": [
    "contents = open(all_filenames[0]).read().replace(\"\\n\", \" \")\n",
    "print(contents)\n",
    "doc = tokenizer(contents)"
   ]
  },
  {
   "cell_type": "code",
   "execution_count": 62,
   "metadata": {},
   "outputs": [],
   "source": [
    "tokens = [d for d in doc]"
   ]
  },
  {
   "cell_type": "code",
   "execution_count": 63,
   "metadata": {},
   "outputs": [
    {
     "name": "stdout",
     "output_type": "stream",
     "text": [
      "True\n"
     ]
    }
   ],
   "source": [
    "print(tokens[0].is_stop)\n",
    "final_text = [d for d in tokens if (not (d.is_stop or d.is_punct) and d.text )]"
   ]
  },
  {
   "cell_type": "code",
   "execution_count": 65,
   "metadata": {},
   "outputs": [
    {
     "name": "stdout",
     "output_type": "stream",
     "text": [
      "[From, :, ez000281@hamlet.ucdavis.edu, (, )]\n",
      "[ez000281@hamlet.ucdavis.edu, Subject, Stage, Set, Organization]\n"
     ]
    }
   ],
   "source": [
    "print(tokens[:5])\n",
    "print(final_text[:5])"
   ]
  },
  {
   "cell_type": "code",
   "execution_count": 60,
   "metadata": {},
   "outputs": [
    {
     "data": {
      "text/plain": [
       "'\\n'"
      ]
     },
     "execution_count": 60,
     "metadata": {},
     "output_type": "execute_result"
    }
   ],
   "source": [
    "final_text[1].text"
   ]
  },
  {
   "cell_type": "code",
   "execution_count": 31,
   "metadata": {},
   "outputs": [
    {
     "data": {
      "text/plain": [
       "ez000281@hamlet.ucdavis.edu"
      ]
     },
     "execution_count": 31,
     "metadata": {},
     "output_type": "execute_result"
    }
   ],
   "source": [
    "token2[2]"
   ]
  },
  {
   "cell_type": "code",
   "execution_count": 33,
   "metadata": {},
   "outputs": [
    {
     "data": {
      "text/plain": [
       "spacy.tokens.token.Token"
      ]
     },
     "execution_count": 33,
     "metadata": {},
     "output_type": "execute_result"
    }
   ],
   "source": [
    "type(token2[0])"
   ]
  },
  {
   "cell_type": "code",
   "execution_count": 37,
   "metadata": {},
   "outputs": [
    {
     "data": {
      "text/plain": [
       "False"
      ]
     },
     "execution_count": 37,
     "metadata": {},
     "output_type": "execute_result"
    }
   ],
   "source": [
    "token2[0].is_punct"
   ]
  },
  {
   "cell_type": "code",
   "execution_count": 35,
   "metadata": {},
   "outputs": [
    {
     "data": {
      "text/plain": [
       "From"
      ]
     },
     "execution_count": 35,
     "metadata": {},
     "output_type": "execute_result"
    }
   ],
   "source": [
    "token2[0]"
   ]
  },
  {
   "cell_type": "code",
   "execution_count": null,
   "metadata": {},
   "outputs": [],
   "source": []
  }
 ],
 "metadata": {
  "kernelspec": {
   "display_name": "Python 3",
   "language": "python",
   "name": "python3"
  },
  "language_info": {
   "codemirror_mode": {
    "name": "ipython",
    "version": 3
   },
   "file_extension": ".py",
   "mimetype": "text/x-python",
   "name": "python",
   "nbconvert_exporter": "python",
   "pygments_lexer": "ipython3",
   "version": "3.6.6"
  }
 },
 "nbformat": 4,
 "nbformat_minor": 2
}
