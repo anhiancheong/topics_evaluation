{
 "cells": [
  {
   "cell_type": "code",
   "execution_count": 2,
   "metadata": {},
   "outputs": [],
   "source": [
    "\"\"\"\n",
    "Play around with getting Mallet LDA to run\n",
    "\"\"\"\n",
    "\n",
    "from gensim.test.utils import common_corpus, common_dictionary\n",
    "from gensim.models.wrappers import LdaMallet\n",
    "from gensim import corpora\n",
    "\n",
    "path_to_mallet_binary = \"/Users/hiancheong/Personal/grad/UMD/comp_ling/topics_evaluation/mallet-2.0.8/bin/mallet\"\n",
    "#model = LdaMallet(path_to_mallet_binary, corpus=common_corpus, num_topics=20, id2word=common_dictionary)\n",
    "#vector = model[common_corpus[0]]  # LDA topics of a documents"
   ]
  },
  {
   "cell_type": "code",
   "execution_count": null,
   "metadata": {},
   "outputs": [],
   "source": [
    "\"\"\"\n",
    "from gensim import corpora\n",
    "reader = open(\"../115_legislation_lines.txt\")\n",
    "lines = [line.replace(\"\\n\", \"\") for line in reader.readlines()]\n",
    "print(len(lines))\n",
    "texts = [line.split(\" \") for line in lines]\n",
    "dictionary = corpora.Dictionary(texts)\n",
    "dictionary.save('/tmp/115_legislation.dict')  # store the dictionary, for future reference\n",
    "print(dictionary)\n",
    "corpus = [dictionary.doc2bow(text) for text in texts]\n",
    "\"\"\""
   ]
  },
  {
   "cell_type": "code",
   "execution_count": null,
   "metadata": {},
   "outputs": [],
   "source": [
    "#model = LdaMallet(path_to_mallet_binary, corpus=corpus, num_topics=20, id2word=dictionary)"
   ]
  },
  {
   "cell_type": "code",
   "execution_count": null,
   "metadata": {},
   "outputs": [],
   "source": [
    "#model.print_topics(30)"
   ]
  },
  {
   "cell_type": "code",
   "execution_count": null,
   "metadata": {},
   "outputs": [],
   "source": [
    "#model = LdaMallet(path_to_mallet_binary, corpus=corpus, num_topics=50, id2word=dictionary)"
   ]
  },
  {
   "cell_type": "code",
   "execution_count": null,
   "metadata": {},
   "outputs": [],
   "source": [
    "#response = model.show_topics(50, formatted=False)\n",
    "#print(response)"
   ]
  },
  {
   "cell_type": "code",
   "execution_count": null,
   "metadata": {},
   "outputs": [],
   "source": [
    "#covid_model = LdaMallet.load(\"/Users/hiancheong/Personal/grad/UMD/comp_ling/topics_evaluation/models/covid-50.model\")"
   ]
  },
  {
   "cell_type": "code",
   "execution_count": 9,
   "metadata": {},
   "outputs": [],
   "source": [
    "import random\n",
    "\n",
    "def setup_word_intrusion(topics_list, n=20, topic_idxs=None):\n",
    "    \"\"\"\n",
    "    topics_list: format is a list of tuples [\n",
    "    (topic_id, [(word, score),(word, score),(word, score)]),\n",
    "    (topic_id, [(word, score),(word, score),(word, score)])]\n",
    "    This is the format given out of the gensim wrapper for Mallet\n",
    "    \n",
    "    n: The number of topics to sample\n",
    "    \"\"\"\n",
    "    # Can't sample more than the available topics\n",
    "    assert len(topics_list) >= n\n",
    "    \n",
    "    intruder_list = []\n",
    "    # Generate n random ints for the selection of topics we'll conduct intrusion on\n",
    "    if not topic_idxs:\n",
    "        topic_idxs = random.sample(range(len(topics_list)), n)\n",
    "        \n",
    "    for topic_idx in topic_idxs:\n",
    "        # select another topic from which to grab a term, exclude the current topic\n",
    "        random_topic_idx = random.choice([idx for idx in range(0, len(topics_list)) if (idx != topic_idx and idx not in topic_idxs)])\n",
    "\n",
    "        # take the top 5 words of the current topic and ONE of the top 5 terms from the top of the other topic\n",
    "        # assert that the new word is not in the top 50 words of the original topic\n",
    "        correct_words = [word_tuple[0] for word_tuple in topics_list[topic_idx][1][:5]]\n",
    "        \n",
    "        # This collects the top 50 words of the current topic\n",
    "        top_topic_words = [word_tuple[0] for word_tuple in topics_list[topic_idx][1][:50]]\n",
    "\n",
    "        # This collects the top words of the 'intruder' topics that do NOT overlap with any of the top\n",
    "        # 10 words of the other topic\n",
    "        top_random_words = [word_tuple[0] for word_tuple in topics_list[random_topic_idx][1][:5] \\\n",
    "                            if word_tuple[0] not in top_topic_words]\n",
    "        \n",
    "        # EDGE-CASE - The top 50 words of the selected topic may overlap heavily with the\n",
    "        # 'intruder' topics's top words. In this case, narrow down the set of excluded terms\n",
    "        # for the current topic to just the top 10. If that doesn't work, then..... skip??\n",
    "        if not top_random_words:\n",
    "            top_topic_words = [word_tuple[0] for word_tuple in topics_list[topic_idx][1][:10]]\n",
    "            top_random_words = [word_tuple[0] for word_tuple in topics_list[random_topic_idx][1][:5] \\\n",
    "                                if word_tuple[0] not in top_topic_words]\n",
    "        \n",
    "            if not top_random_words:\n",
    "                print(f\"Skipping word intrusion for topic {topic_idx} with intruder {random_topic_idx}\")\n",
    "                continue\n",
    "        # select the intruder word\n",
    "        selected_intruder = random.choice(top_random_words)\n",
    "        \n",
    "        print(topic_idx, random_topic_idx, correct_words + [selected_intruder])\n",
    "        \n",
    "        # The last word in each list is the 'intruder', this should be randomized before showing\n",
    "        intruder_list.append([topics_list[topic_idx][0]] + correct_words + [selected_intruder])\n",
    "    return intruder_list\n",
    "    \n",
    "#covid_bad_topics = [33, 40]\n",
    "#covid_topics = covid_model.show_topics(num_topics=50, num_words=50, formatted=False)\n",
    "#covid_topics = [covid_topics[idx] for idx in range(0, len(covid_topics)) if idx not in covid_bad_topics]\n",
    "\n",
    "#covid_intruders = setup_word_intrusion(covid_topics)"
   ]
  },
  {
   "cell_type": "code",
   "execution_count": 7,
   "metadata": {},
   "outputs": [
    {
     "name": "stdout",
     "output_type": "stream",
     "text": [
      "3 7 ['_survivor', 'ability', 'active', 'activity', 'aerobic', 'able']\n",
      "8 7 ['asthma', 'day', 'diet', 'eating', 'healthy', 'ability']\n",
      "4 8 ['aerobic', 'allergies', 'body', 'concerns', 'condition', 'eating']\n",
      "5 2 ['arthritis', 'aspects', 'fairly', 'overweight', 'related', 'taking']\n",
      "1 3 ['biking', 'chronic', 'conditions', 'fairly', 'family', 'ability']\n"
     ]
    }
   ],
   "source": [
    "import csv\n",
    "def load_topics(path):\n",
    "    \n",
    "    reader = csv.DictReader(open(path), delimiter=\",\")\n",
    "    topics_list = [(topic_name, []) for topic_name in reader.fieldnames if topic_name != \"Word\"]\n",
    "    for idx, row in enumerate(reader):\n",
    "        for topic_tuple in topics_list:\n",
    "            topic_name = topic_tuple[0]\n",
    "            topic_tuple[1].append((row[\"Word\"], row[topic_name]))\n",
    "\n",
    "    # We need to sort each of the word lists once they are reassembled\n",
    "    for topic_tuple in topics_list:\n",
    "        topic_tuple[1].sort(key=lambda t: t[1])\n",
    "    return topics_list\n",
    "\n",
    "\n",
    "topics_list = load_topics(\"/Users/hiancheong/Downloads/export_shro_10topics/word_topics.csv\")\n",
    "topic_intruders = setup_word_intrusion(topics_list, n=5)"
   ]
  },
  {
   "cell_type": "code",
   "execution_count": null,
   "metadata": {},
   "outputs": [],
   "source": [
    "legislation_model = LdaMallet.load(\"/Users/hiancheong/Personal/grad/UMD/comp_ling/topics_evaluation/models/legislation-50.model\")"
   ]
  },
  {
   "cell_type": "code",
   "execution_count": null,
   "metadata": {},
   "outputs": [],
   "source": [
    "#legislation_topics = legislation_model.show_topics(num_topics=50, num_words=50, formatted=False)\n",
    "#legislation_intruders = setup_word_intrusion(legislation_topics)"
   ]
  },
  {
   "cell_type": "code",
   "execution_count": 12,
   "metadata": {},
   "outputs": [],
   "source": [
    "big_covid_model = LdaMallet.load(\"/Users/hiancheong/Personal/grad/UMD/comp_ling/topics_evaluation/models/covid-150.model\")\n",
    "big_leg_model = LdaMallet.load(\"/Users/hiancheong/Personal/grad/UMD/comp_ling/topics_evaluation/models/legislation-100.model\")\n",
    "news_model = LdaMallet.load(\"/Users/hiancheong/Personal/grad/UMD/comp_ling/topics_evaluation/models/20_news_20.model\")"
   ]
  },
  {
   "cell_type": "code",
   "execution_count": 13,
   "metadata": {},
   "outputs": [],
   "source": [
    "covid_bad_big_topics = [4,9,12]\n",
    "big_covid_topics = big_covid_model.show_topics(num_topics=150, num_words=50, formatted=False)\n",
    "big_covid_topics = [big_covid_topics[idx] for idx in range(0, len(big_covid_topics)) if idx not in covid_bad_big_topics]\n",
    "\n",
    "big_leg_topics = big_leg_model.show_topics(num_topics=100, num_words=50, formatted=False)\n",
    "\n",
    "news_topics = news_model.show_topics(num_topics=20, num_words=20, formatted=False)"
   ]
  },
  {
   "cell_type": "code",
   "execution_count": 14,
   "metadata": {},
   "outputs": [],
   "source": [
    "\"\"\"\n",
    "Identify the set of indices to draw topics from\n",
    "\"\"\"\n",
    "N = 30\n",
    "covid_topic_idxs = random.sample(range(len(big_covid_topics)), N)\n",
    "leg_topic_idxs = random.sample(range(len(big_leg_topics)), N)\n",
    "news_topic_idxs = random.sample(range(len(news_topics)), 10)"
   ]
  },
  {
   "cell_type": "code",
   "execution_count": 16,
   "metadata": {},
   "outputs": [
    {
     "name": "stdout",
     "output_type": "stream",
     "text": [
      "24 29 ['compounds', 'reaction', 'compound', 'activity', 'derivatives', 'golgi']\n",
      "12 138 ['inflammatory', 'cytokines', 'response', 'inflammation', 'immune', 'surface']\n",
      "64 36 ['testing', 'test', 'tests', 'sensitivity', 'diagnostic', 'information']\n",
      "38 122 ['recipients', 'transplant', 'transplantation', 'donor', 'rejection', 'learning']\n",
      "134 27 ['food', 'products', 'risk', 'production', 'safety', 'world']\n",
      "54 15 ['trauma', 'injury', 'bone', 'injuries', 'pain', 'species']\n",
      "103 94 ['cancer', 'tumor', 'tumors', 'breast', 'cell', 'recombinant']\n",
      "86 124 ['water', 'treatment', 'surface', 'inactivation', 'uv', 'dna']\n",
      "136 50 ['symptoms', 'fever', 'acute', 'respiratory', 'illness', 'domains']\n",
      "96 135 ['data', 'system', 'information', 'user', 'users', 'clinical']\n",
      "39 118 ['pedv', 'tgev', 'piglets', 'pigs', 'intestinal', 'infectious']\n",
      "132 14 ['antibodies', 'epitopes', 'binding', 'peptides', 'peptide', 'class']\n",
      "127 41 ['preprint', 'license', 'medrxiv', 'display', 'copyright', 'response']\n",
      "143 59 ['network', 'nodes', 'networks', 'node', 'set', 'environmental']\n",
      "108 1 ['students', 'training', 'education', 'learning', 'school', 'brain']\n",
      "40 135 ['rotavirus', 'viruses', 'diarrhea', 'human', 'virus', 'treatment']\n",
      "104 36 ['cases', 'data', 'period', 'incidence', 'study', 'social']\n",
      "98 128 ['genes', 'expression', 'gene', 'analysis', 'data', 'flow']\n",
      "73 18 ['activation', 'signaling', 'protein', 'cell', 'phosphorylation', 'health']\n",
      "133 141 ['mers', 'korea', 'camels', 'saudi', 'cases', 'eye']\n",
      "91 10 ['cats', 'dogs', 'cat', 'feline', 'canine', 'peptides']\n",
      "2 129 ['transmission', 'cases', 'contact', 'case', 'outbreak', 'countries']\n",
      "66 126 ['studies', 'development', 'approach', 'disease', 'potential', 'figure']\n",
      "9 112 ['air', 'particles', 'flow', 'particle', 'airborne', 'patient']\n",
      "89 17 ['dogs', 'cats', 'study', 'horses', 'concentrations', 'viruses']\n",
      "76 7 ['expression', 'levels', 'activity', 'increased', 'effect', 'transmission']\n",
      "30 110 ['liver', 'cf', 'patients', 'cftr', 'hepatic', 'fetal']\n",
      "28 92 ['cells', 'virus', 'cell', 'culture', 'infected', 'ace']\n",
      "146 14 ['pandemic', 'patients', 'care', 'risk', 'healthcare', 'iii']\n",
      "45 68 ['apoptosis', 'autophagy', 'cells', 'cell', 'stress', 'significantly']\n",
      "36 46 ['corporation', 'foreign', 'section', 'income', 'subsection', 'students']\n",
      "35 64 ['environmental', 'federal', 'permit', 'act', 'application', 'inserting']\n",
      "87 49 ['act', 'bill', 'senate', 'read', 'introduced', 'state']\n",
      "89 29 ['program', 'secretary', 'programs', 'pilot', 'participating', 'institution']\n",
      "26 16 ['commission', 'board', 'members', 'advisory', 'committee', 'service']\n",
      "56 67 ['business', 'small', 'businesses', 'act', 'administrator', 'human']\n",
      "10 99 ['agreement', 'contract', 'agreements', 'pursuant', 'contracts', 'act']\n",
      "95 23 ['transportation', 'air', 'aircraft', 'administrator', 'aviation', 'health']\n",
      "25 99 ['health', 'care', 'medical', 'services', 'service', 'funds']\n",
      "98 64 ['social', 'security', 'benefits', 'act', 'benefit', 'paragraph']\n",
      "40 84 ['housing', 'disaster', 'assistance', 'emergency', 'section', 'remington']\n",
      "55 44 ['guard', 'corps', 'states', 'united', 'vessel', 'section']\n",
      "80 97 ['review', 'order', 'court', 'claim', 'board', 'eligible']\n",
      "34 75 ['coastal', 'management', 'act', 'fishing', 'marine', 'office']\n",
      "24 91 ['account', 'section', 'retirement', 'employee', 'employer', 'department']\n",
      "96 5 ['indian', 'tribe', 'tribal', 'native', 'act', 'person']\n",
      "9 18 ['child', 'children', 'family', 'care', 'families', 'diseases']\n",
      "0 92 ['service', 'communications', 'commission', 'provider', 'internet', 'securities']\n",
      "33 64 ['plan', 'plans', 'section', 'year', 'benefits', 'inserting']\n",
      "82 13 ['military', 'armed', 'forces', 'members', 'member', 'consumer']\n",
      "8 85 ['enforcement', 'law', 'officer', 'attorney', 'general', 'paragraph']\n",
      "28 75 ['section', 'title', 'code', 'sec', 'amended', 'bill']\n",
      "48 91 ['project', 'water', 'projects', 'secretary', 'act', 'department']\n",
      "73 50 ['substance', 'treatment', 'drug', 'opioid', 'controlled', 'interest']\n",
      "57 70 ['drug', 'food', 'cosmetic', 'section', 'product', 'sexual']\n",
      "90 13 ['immigration', 'alien', 'secretary', 'security', 'homeland', 'agency']\n",
      "4 62 ['veterans', 'department', 'secretary', 'affairs', 'veteran', 'palestinian']\n",
      "77 71 ['employer', 'employee', 'labor', 'employment', 'employees', 'year']\n",
      "7 79 ['alien', 'status', 'section', 'act', 'immigration', 'california']\n",
      "30 67 ['development', 'activities', 'programs', 'including', 'data', 'human']\n",
      "Skipping word intrusion for topic 2 with intruder 8\n",
      "6 4 ['good', 'problem', 'subject', 'time', 'lines', 'armenians']\n",
      "5 12 ['windows', 'file', 'dos', 'run', 'system', 'light']\n",
      "13 3 ['key', 'chip', 'encryption', 'clipper', 'government', 'told']\n",
      "19 10 ['people', 'government', 'fbi', 'gun', 'fire', 'game']\n",
      "14 15 ['number', 'health', 'care', 'national', 'research', 'game']\n",
      "16 9 ['image', 'data', 'graphics', 'file', 'software', 'subject']\n",
      "11 4 ['god', 'people', 'jesus', 'christian', 'bible', 'turkish']\n",
      "0 8 ['car', 'cars', 'good', 'engine', 'article', 'host']\n",
      "7 9 ['information', 'mail', 'list', 'send', 'internet', 'lines']\n"
     ]
    }
   ],
   "source": [
    "big_covid_intruders = setup_word_intrusion(big_covid_topics, topic_idxs=covid_topic_idxs)\n",
    "big_leg_intruders = setup_word_intrusion(big_leg_topics, topic_idxs=leg_topic_idxs)\n",
    "news_intruders = setup_word_intrusion(news_topics, topic_idxs=news_topic_idxs)"
   ]
  },
  {
   "cell_type": "code",
   "execution_count": 17,
   "metadata": {},
   "outputs": [
    {
     "data": {
      "text/plain": [
       "[[8, 'organization', 'subject', 'nntp', 'host', 'lines'],\n",
       " [10, 'year', 'good', 'game', 'baseball', 'team'],\n",
       " [18, 'israel', 'jews', 'israeli', 'jewish', 'people'],\n",
       " [15, 'game', 'team', 'hockey', 'play', 'games'],\n",
       " [19, 'people', 'government', 'fbi', 'gun', 'fire'],\n",
       " [9, 'lines', 'subject', 'organization', 'writes', 'article'],\n",
       " [4, 'armenian', 'turkish', 'armenians', 'world', 'people'],\n",
       " [17, 'lines', 'organization', 'subject', 'price', 'money'],\n",
       " [16, 'image', 'data', 'graphics', 'file', 'software'],\n",
       " [1, 'drive', 'card', 'mac', 'problem', 'apple']]"
      ]
     },
     "execution_count": 17,
     "metadata": {},
     "output_type": "execute_result"
    }
   ],
   "source": [
    "def select_observed_coherence_topics(topics_list, num_topics=20, num_terms=5, topic_idxs=None):\n",
    "    \"\"\"\n",
    "    Newman et Al - Generate a set of terms to be evaluated on a 1-3 scale ranking\n",
    "    \"\"\"\n",
    "    if not topic_idxs:\n",
    "        topic_idxs = random.sample(range(len(topics_list)), num_topics)\n",
    "    topic_words = []\n",
    "    for topic_idx in topic_idxs:\n",
    "        # put the topic id as the first value\n",
    "        topic_words.append([topics_list[topic_idx][0]] + [word_tuple[0] for word_tuple in topics_list[topic_idx][1][:num_terms]])\n",
    "        \n",
    "    return topic_words\n",
    "select_observed_coherence_topics(news_topics, num_topics=10)"
   ]
  },
  {
   "cell_type": "code",
   "execution_count": 18,
   "metadata": {},
   "outputs": [],
   "source": [
    "import csv\n",
    "def output_to_csv(topic_terms_list, filename):\n",
    "    \"\"\"\n",
    "    Output topics to the most friendly format for easily copying to Qualtrics\n",
    "    Each column will be a new topic (either intrusion or obersered coherence)\n",
    "    Requires the length of every item in topic_terms_list to be the same\n",
    "    \"\"\"\n",
    "    columns = []\n",
    "    term_len = len(topic_terms_list[0])\n",
    "\n",
    "    for idx in range(term_len):\n",
    "        row = []\n",
    "        for topic_idx in range(len(topic_terms_list)):\n",
    "            row.append(topic_terms_list[topic_idx][idx])\n",
    "        columns.append(row)\n",
    "\n",
    "    writer = csv.writer(open(filename, \"w+\"))\n",
    "    for line in columns:\n",
    "        writer.writerow(line)\n",
    "        \n",
    "    "
   ]
  },
  {
   "cell_type": "code",
   "execution_count": null,
   "metadata": {},
   "outputs": [],
   "source": [
    "output_to_csv(news_intruders, \"../news_intruders2.csv\")\n",
    "output_to_csv(big_leg_intruders, \"../leg_intruders2.csv\")\n",
    "output_to_csv(big_covid_intruders, \"../covid_intruders2.csv\")"
   ]
  },
  {
   "cell_type": "code",
   "execution_count": null,
   "metadata": {},
   "outputs": [],
   "source": [
    "\n",
    "#news_coherence = select_observed_coherence_topics(news_topics, num_topics=10, num_terms=10, topic_idxs=news_topic_idxs)\n",
    "#big_leg_coherence = select_observed_coherence_topics(big_leg_topics, num_topics=30, num_terms=10, topic_idxs=leg_topic_idxs)\n",
    "#big_covid_coherence = select_observed_coherence_topics(big_covid_topics, num_topics=30, num_terms=10, topic_idxs=covid_topic_idxs)\n",
    "\n",
    "output_to_csv(news_coherence, \"../news_coherence2.csv\")\n",
    "output_to_csv(big_leg_coherence, \"../leg_coherence2.csv\")\n",
    "output_to_csv(big_covid_coherence, \"../covid_coherence2.csv\")"
   ]
  },
  {
   "cell_type": "code",
   "execution_count": 22,
   "metadata": {},
   "outputs": [
    {
     "name": "stdout",
     "output_type": "stream",
     "text": [
      "writes,article,organization,subject,lines,posting,host,nntp,distribution,usa\n",
      "good,problem,subject,time,lines,organization,body,problems,long,effect\n",
      "windows,file,dos,run,system,program,version,files,unix,software\n",
      "key,chip,encryption,clipper,government,public,keys,security,system,law\n",
      "people,government,fbi,gun,fire,president,state,police,koresh,clinton\n",
      "number,health,care,national,research,medical,study,school,people,april\n",
      "image,data,graphics,file,software,version,color,jpeg,format,images\n",
      "god,people,jesus,christian,bible,religion,church,word,point,faith\n",
      "car,cars,good,engine,article,writes,oil,bike,road,dealer\n",
      "information,mail,list,send,internet,group,address,email,read,post\n",
      "==LEG==\n",
      "corporation,foreign,section,income,subsection,purposes,paragraph,business,year,group\n",
      "environmental,federal,permit,act,application,applicable,secretary,section,review,proposed\n",
      "act,bill,senate,read,introduced,session,referred,congress,cited,committee\n",
      "program,secretary,programs,pilot,participating,assistance,section,established,participation,subsection\n",
      "commission,board,members,advisory,committee,appointed,member,federal,duties,director\n",
      "business,small,businesses,act,administrator,owned,center,administration,concerns,economic\n",
      "agreement,contract,agreements,pursuant,contracts,subsection,entered,party,terms,services\n",
      "transportation,air,aircraft,administrator,aviation,administration,safety,unmanned,federal,airport\n",
      "health,care,medical,services,service,hospital,providers,section,patient,secretary\n",
      "social,security,benefits,act,benefit,section,month,trust,insurance,commissioner\n",
      "housing,disaster,assistance,emergency,section,relief,act,unit,area,hurricane\n",
      "guard,corps,states,united,vessel,national,coast,committee,secretary,museum\n",
      "review,order,court,claim,board,decision,notice,claims,determination,hearing\n",
      "coastal,management,act,fishing,marine,mexico,great,fishery,gulf,ocean\n",
      "account,section,retirement,employee,employer,savings,contributions,contribution,code,distribution\n",
      "indian,tribe,tribal,native,act,tribes,federal,american,secretary,alaska\n",
      "child,children,family,care,families,youth,services,foster,parent,age\n",
      "service,communications,commission,provider,internet,term,broadband,act,access,means\n",
      "plan,plans,section,year,benefits,act,requirements,secretary,benefit,date\n",
      "military,armed,forces,members,member,defense,service,active,services,duty\n",
      "enforcement,law,officer,attorney,general,officers,person,investigation,body,foreign\n",
      "section,title,code,sec,amended,chapter,table,relating,item,adding\n",
      "project,water,projects,secretary,act,infrastructure,rights,federal,construction,hualapai\n",
      "substance,treatment,drug,opioid,controlled,substances,disorder,recovery,services,abuse\n",
      "drug,food,cosmetic,section,product,secretary,federal,fee,application,order\n",
      "immigration,alien,secretary,security,homeland,removal,section,act,general,united\n",
      "veterans,department,secretary,affairs,veteran,medical,administration,subsection,title,united\n",
      "employer,employee,labor,employment,employees,workers,work,act,compensation,time\n",
      "alien,status,section,act,immigration,secretary,nationality,permanent,application,states\n",
      "development,activities,programs,including,data,agencies,support,evaluation,develop,federal\n",
      "==COVID==\n",
      "compounds,reaction,compound,activity,derivatives,synthesis,acid,group,mmol,ring\n",
      "inflammatory,cytokines,response,inflammation,immune,macrophages,cytokine,activation,production,levels\n",
      "testing,test,tests,sensitivity,diagnostic,detection,clinical,assay,results,assays\n",
      "recipients,transplant,transplantation,donor,rejection,graft,patients,survival,liver,recipient\n",
      "food,products,risk,production,safety,product,process,quality,risks,regulatory\n",
      "trauma,injury,bone,injuries,pain,emergency,fractures,fracture,patients,head\n",
      "cancer,tumor,tumors,breast,cell,patients,cases,carcinoma,chemotherapy,survival\n",
      "water,treatment,surface,inactivation,uv,surfaces,environmental,wastewater,waste,disinfection\n",
      "symptoms,fever,acute,respiratory,illness,cough,common,days,diagnosis,infection\n",
      "data,system,information,user,users,technology,systems,mobile,software,digital\n",
      "pedv,tgev,piglets,pigs,intestinal,porcine,pdcov,diarrhea,virus,swine\n",
      "antibodies,epitopes,binding,peptides,peptide,antibody,epitope,mab,mabs,neutralizing\n",
      "preprint,license,medrxiv,display,copyright,granted,holder,perpetuity,version,posted\n",
      "network,nodes,networks,node,set,graph,degree,number,time,problem\n",
      "students,training,education,learning,school,program,skills,teaching,medical,programs\n",
      "rotavirus,viruses,diarrhea,human,virus,hev,enteric,gastroenteritis,norovirus,fecal\n",
      "cases,data,period,incidence,study,years,year,number,reported,week\n",
      "genes,expression,gene,analysis,data,figure,expressed,response,identified,pathways\n",
      "activation,signaling,protein,cell,phosphorylation,pathway,transcription,kinase,cells,binding\n",
      "mers,korea,camels,saudi,cases,arabia,respiratory,reported,middle,east\n",
      "cats,dogs,cat,feline,canine,fip,disease,fcov,dog,fipv\n",
      "transmission,cases,contact,case,outbreak,individuals,contacts,infection,days,period\n",
      "studies,development,approach,disease,potential,models,approaches,provide,recent,human\n",
      "air,particles,flow,particle,airborne,aerosol,ventilation,concentration,wind,droplets\n",
      "dogs,cats,study,horses,concentrations,serum,ϭ,disease,clinical,healthy\n",
      "expression,levels,activity,increased,effect,cells,compared,reduced,results,significantly\n",
      "liver,cf,patients,cftr,hepatic,fibrosis,disease,function,cystic,chronic\n",
      "cells,virus,cell,culture,infected,medium,vero,viral,cultures,replication\n",
      "pandemic,patients,care,risk,healthcare,health,resources,patient,current,time\n",
      "apoptosis,autophagy,cells,cell,stress,protein,er,mitochondrial,death,pathway\n"
     ]
    }
   ],
   "source": [
    "news_coherence\n",
    "for topic in news_coherence:\n",
    "    print(\",\".join(topic[1:]))\n",
    "#big_leg_coherence\n",
    "#big_covid_coherence\n",
    "print(\"==LEG==\")\n",
    "for topic in big_leg_coherence:\n",
    "    print(\",\".join(topic[1:]))\n",
    "print(\"==COVID==\")\n",
    "for topic in big_covid_coherence:\n",
    "    print(\",\".join(topic[1:]))"
   ]
  },
  {
   "cell_type": "code",
   "execution_count": null,
   "metadata": {},
   "outputs": [],
   "source": [
    "len(news_coherence)"
   ]
  },
  {
   "cell_type": "code",
   "execution_count": null,
   "metadata": {},
   "outputs": [],
   "source": [
    "\n",
    "survey = {\"SurveyEntry\":{\"SurveyID\":\"SV_af8BrDzrV6hF64d\",\"SurveyName\":\"Topics Evaluation 1\",\"SurveyDescription\":None,\"SurveyOwnerID\":\"UR_1MmbX0D3bAle6sR\",\"SurveyBrandID\":\"umd\",\"DivisionID\":None,\"SurveyLanguage\":\"EN\",\"SurveyActiveResponseSet\":\"RS_cXYb9Itss4q723X\",\"SurveyStatus\":\"Inactive\",\"SurveyStartDate\":\"0000-00-00 00:00:00\",\"SurveyExpirationDate\":\"0000-00-00 00:00:00\",\"SurveyCreationDate\":\"2020-06-21 13:11:12\",\"CreatorID\":\"UR_1MmbX0D3bAle6sR\",\"LastModified\":\"2020-06-21 14:00:15\",\"LastAccessed\":\"0000-00-00 00:00:00\",\"LastActivated\":\"0000-00-00 00:00:00\",\"Deleted\":None},\"SurveyElements\":[{\"SurveyID\":\"SV_af8BrDzrV6hF64d\",\"Element\":\"BL\",\"PrimaryAttribute\":\"Survey Blocks\",\"SecondaryAttribute\":None,\"TertiaryAttribute\":None,\"Payload\":[{\"Type\":\"Default\",\"Description\":\"News Group Coherence\",\"ID\":\"BL_cNPSLmmFv4ATBkN\",\"BlockElements\":[{\"Type\":\"Question\",\"QuestionID\":\"QID1\"}]},{\"Type\":\"Trash\",\"Description\":\"Trash \\/ Unused Questions\",\"ID\":\"BL_e9vRuZf29bb60ex\"},{\"Type\":\"Standard\",\"SubType\":\"\",\"Description\":\"Covid Coherence\",\"ID\":\"BL_7WdpPpaRap5Ti0B\"},{\"Type\":\"Standard\",\"SubType\":\"\",\"Description\":\"Legislation Coherence\",\"ID\":\"BL_0CWrdSup3c2YS4l\"},{\"Type\":\"Standard\",\"SubType\":\"\",\"Description\":\"News Intruder\",\"ID\":\"BL_aV5RrxWp6u04bzv\",\"BlockElements\":[{\"Type\":\"Question\",\"QuestionID\":\"QID2\"}]},{\"Type\":\"Standard\",\"SubType\":\"\",\"Description\":\"Covid Intruder\",\"ID\":\"BL_54GKtT1Af2xXSGF\"},{\"Type\":\"Standard\",\"SubType\":\"\",\"Description\":\"Legislation Intruder\",\"ID\":\"BL_3sfBGhcWI2RqY73\"},{\"Type\":\"Standard\",\"SubType\":\"\",\"Description\":\"Introduction\",\"ID\":\"BL_3JEo10v03BpLhuB\"}]},{\"SurveyID\":\"SV_af8BrDzrV6hF64d\",\"Element\":\"FL\",\"PrimaryAttribute\":\"Survey Flow\",\"SecondaryAttribute\":None,\"TertiaryAttribute\":None,\"Payload\":{\"Flow\":[{\"ID\":\"BL_3JEo10v03BpLhuB\",\"Type\":\"Standard\",\"FlowID\":\"FL_8\"},{\"ID\":\"BL_cNPSLmmFv4ATBkN\",\"Type\":\"Block\",\"FlowID\":\"FL_2\"},{\"ID\":\"BL_7WdpPpaRap5Ti0B\",\"Type\":\"Standard\",\"FlowID\":\"FL_3\"},{\"ID\":\"BL_0CWrdSup3c2YS4l\",\"Type\":\"Standard\",\"FlowID\":\"FL_4\"},{\"ID\":\"BL_aV5RrxWp6u04bzv\",\"Type\":\"Standard\",\"FlowID\":\"FL_5\"},{\"ID\":\"BL_54GKtT1Af2xXSGF\",\"Type\":\"Standard\",\"FlowID\":\"FL_6\"},{\"ID\":\"BL_3sfBGhcWI2RqY73\",\"Type\":\"Standard\",\"FlowID\":\"FL_7\"}],\"Properties\":{\"Count\":8},\"FlowID\":\"FL_1\",\"Type\":\"Root\"}},{\"SurveyID\":\"SV_af8BrDzrV6hF64d\",\"Element\":\"SO\",\"PrimaryAttribute\":\"Survey Options\",\"SecondaryAttribute\":None,\"TertiaryAttribute\":None,\"Payload\":{\"BackButton\":\"False\",\"SaveAndContinue\":\"True\",\"SurveyProtection\":\"PublicSurvey\",\"BallotBoxStuffingPrevention\":\"False\",\"NoIndex\":\"Yes\",\"SecureResponseFiles\":\"True\",\"SurveyExpiration\":\"None\",\"SurveyTermination\":\"DefaultMessage\",\"Header\":\"\",\"Footer\":\"\",\"ProgressBarDisplay\":\"None\",\"PartialData\":\"+1 week\",\"ValidationMessage\":\"\",\"PreviousButton\":\" \\u2190 \",\"NextButton\":\" \\u2192 \",\"SurveyTitle\":\"Online Survey Software | Qualtrics Survey Solutions\",\"SkinLibrary\":\"umd\",\"SkinType\":\"MQ\",\"Skin\":\"umd2_new\",\"NewScoring\":1}},{\"SurveyID\":\"SV_af8BrDzrV6hF64d\",\"Element\":\"SCO\",\"PrimaryAttribute\":\"Scoring\",\"SecondaryAttribute\":None,\"TertiaryAttribute\":None,\"Payload\":{\"ScoringCategories\":[],\"ScoringCategoryGroups\":[],\"ScoringSummaryCategory\":None,\"ScoringSummaryAfterQuestions\":0,\"ScoringSummaryAfterSurvey\":0,\"DefaultScoringCategory\":None,\"AutoScoringCategory\":None}},{\"SurveyID\":\"SV_af8BrDzrV6hF64d\",\"Element\":\"PROJ\",\"PrimaryAttribute\":\"CORE\",\"SecondaryAttribute\":None,\"TertiaryAttribute\":\"1.1.0\",\"Payload\":{\"ProjectCategory\":\"CORE\",\"SchemaVersion\":\"1.1.0\"}},{\"SurveyID\":\"SV_af8BrDzrV6hF64d\",\"Element\":\"STAT\",\"PrimaryAttribute\":\"Survey Statistics\",\"SecondaryAttribute\":None,\"TertiaryAttribute\":None,\"Payload\":{\"MobileCompatible\":True,\"ID\":\"Survey Statistics\"}},{\"SurveyID\":\"SV_af8BrDzrV6hF64d\",\"Element\":\"QC\",\"PrimaryAttribute\":\"Survey Question Count\",\"SecondaryAttribute\":\"2\",\"TertiaryAttribute\":None,\"Payload\":None},{\"SurveyID\":\"SV_af8BrDzrV6hF64d\",\"Element\":\"RS\",\"PrimaryAttribute\":\"RS_cXYb9Itss4q723X\",\"SecondaryAttribute\":\"Default Response Set\",\"TertiaryAttribute\":None,\"Payload\":None},{\"SurveyID\":\"SV_af8BrDzrV6hF64d\",\"Element\":\"SQ\",\"PrimaryAttribute\":\"QID2\",\"SecondaryAttribute\":\"Identify the word that doesn't belong:\",\"TertiaryAttribute\":None,\"Payload\":{\"QuestionText\":\"Identify the word that doesn't belong:\",\"DataExportTag\":\"News_19\",\"QuestionType\":\"MC\",\"Selector\":\"SAVR\",\"SubSelector\":\"TX\",\"Configuration\":{\"QuestionDescriptionOption\":\"UseText\"},\"QuestionDescription\":\"Identify the word that doesn't belong:\",\"Choices\":{\"1\":{\"Display\":\"people\"},\"2\":{\"Display\":\"government\"},\"3\":{\"Display\":\"fbi\"},\"4\":{\"Display\":\"gun\"},\"5\":{\"Display\":\"fire\"},\"6\":{\"Display\":\"subject\"}},\"ChoiceOrder\":[1,2,3,4,5,6],\"Validation\":{\"Settings\":{\"ForceResponse\":\"OFF\",\"ForceResponseType\":\"ON\",\"Type\":\"None\"}},\"Language\":[],\"NextChoiceId\":7,\"NextAnswerId\":1,\"QuestionID\":\"QID2\",\"GradingData\":[],\"Randomization\":{\"Advanced\":None,\"Type\":\"All\",\"TotalRandSubset\":\"\"}}},{\"SurveyID\":\"SV_af8BrDzrV6hF64d\",\"Element\":\"SQ\",\"PrimaryAttribute\":\"QID1\",\"SecondaryAttribute\":\"Rate the Following Topic: people time told left started day home remember thought happened\",\"TertiaryAttribute\":None,\"Payload\":{\"QuestionText\":\"Rate the Following Topic:<div><google-sheets-html-origin style=\\\"color: rgb(0, 0, 0); font-size: medium;\\\"><table class=\\\"UserTable\\\"><tbody><tr><td>people<\\/td><\\/tr><tr><td>time<\\/td><\\/tr><tr><td>told<\\/td><\\/tr><tr><td>left<\\/td><\\/tr><tr><td>started<\\/td><\\/tr><tr><td>day<\\/td><\\/tr><tr><td>home<\\/td><\\/tr><tr><td>remember<\\/td><\\/tr><tr><td>thought<\\/td><\\/tr><tr><td>happened<\\/td><\\/tr><\\/tbody><\\/table><\\/google-sheets-html-origin><\\/div>\",\"DataExportTag\":\"Q1\",\"QuestionType\":\"MC\",\"Selector\":\"SAVR\",\"SubSelector\":\"TX\",\"Configuration\":{\"QuestionDescriptionOption\":\"UseText\"},\"QuestionDescription\":\"Rate the Following Topic: people time told left started day home remember thought happened\",\"Choices\":{\"1\":{\"Display\":\"Useless\"},\"2\":{\"Display\":\"Neutral\"},\"3\":{\"Display\":\"Useful\"}},\"ChoiceOrder\":[\"1\",\"2\",\"3\"],\"Validation\":{\"Settings\":{\"ForceResponse\":\"OFF\",\"ForceResponseType\":\"ON\",\"Type\":\"None\"}},\"Language\":[],\"NextChoiceId\":4,\"NextAnswerId\":1,\"QuestionID\":\"QID1\"}}]}\n",
    "\n"
   ]
  },
  {
   "cell_type": "code",
   "execution_count": null,
   "metadata": {},
   "outputs": [],
   "source": [
    "import json\n",
    "print(json.dumps(survey, indent=2))"
   ]
  },
  {
   "cell_type": "code",
   "execution_count": null,
   "metadata": {},
   "outputs": [],
   "source": [
    "print(\"hello\")"
   ]
  },
  {
   "cell_type": "code",
   "execution_count": null,
   "metadata": {},
   "outputs": [],
   "source": []
  }
 ],
 "metadata": {
  "kernelspec": {
   "display_name": "Python 3",
   "language": "python",
   "name": "python3"
  },
  "language_info": {
   "codemirror_mode": {
    "name": "ipython",
    "version": 3
   },
   "file_extension": ".py",
   "mimetype": "text/x-python",
   "name": "python",
   "nbconvert_exporter": "python",
   "pygments_lexer": "ipython3",
   "version": "3.6.6"
  }
 },
 "nbformat": 4,
 "nbformat_minor": 2
}
